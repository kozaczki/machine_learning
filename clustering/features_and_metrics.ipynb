{
 "cells": [
  {
   "cell_type": "markdown",
   "id": "a8c03d62",
   "metadata": {},
   "source": [
    "# Choosing features and metrics for nearest neighbor search"
   ]
  },
  {
   "cell_type": "markdown",
   "id": "d1dac5a9",
   "metadata": {},
   "source": [
    "### To find relevant documents you typically\n",
    "\n",
    "* Decide on a notion of similarity\n",
    "\n",
    "\n",
    "* Find the documents that are most similar"
   ]
  },
  {
   "cell_type": "markdown",
   "id": "e655762a",
   "metadata": {},
   "source": [
    "### Libraries"
   ]
  },
  {
   "cell_type": "code",
   "execution_count": 1,
   "id": "e29967ee",
   "metadata": {},
   "outputs": [],
   "source": [
    "import matplotlib.pyplot as plt          # plotting\n",
    "import numpy as np                       # dense matrices\n",
    "from scipy.sparse import csr_matrix      # sparse matrices\n",
    "import pandas as pd\n",
    "import json\n",
    "from sklearn.neighbors import NearestNeighbors\n",
    "import matplotlib.pyplot as plt"
   ]
  },
  {
   "cell_type": "markdown",
   "id": "0b4f0f1e",
   "metadata": {},
   "source": [
    "### Functions"
   ]
  },
  {
   "cell_type": "code",
   "execution_count": 2,
   "id": "8d1d6570",
   "metadata": {},
   "outputs": [],
   "source": [
    "def load_sparse_csr(filename):\n",
    "    loader = np.load(filename)\n",
    "    data = loader['data']\n",
    "    indices = loader['indices']\n",
    "    indptr = loader['indptr']\n",
    "    shape = loader['shape']\n",
    "    \n",
    "    return csr_matrix( (data, indices, indptr), shape)"
   ]
  },
  {
   "cell_type": "code",
   "execution_count": 3,
   "id": "33660681",
   "metadata": {},
   "outputs": [],
   "source": [
    "def unpack_dict(matrix, map_index_to_word):\n",
    "    table = sorted(map_index_to_word, key=map_index_to_word.get)\n",
    "    \n",
    "    \n",
    "    data = matrix.data\n",
    "    indices = matrix.indices\n",
    "    indptr = matrix.indptr\n",
    "    \n",
    "    num_doc = matrix.shape[0]\n",
    "\n",
    "    return [{k:v for k,v in zip([table[word_id] for word_id in indices[indptr[i]:indptr[i+1]] ],\n",
    "                                 data[indptr[i]:indptr[i+1]].tolist())} \\\n",
    "               for i in range(num_doc) ]\n"
   ]
  },
  {
   "cell_type": "code",
   "execution_count": 4,
   "id": "eabdc0be",
   "metadata": {},
   "outputs": [],
   "source": [
    "def top_words(name):\n",
    "    name_df = wiki[wiki['name']==name]\n",
    "    word_count = name_df.iloc[0,3]\n",
    "    word_count_dict =  {k: v for k, v in sorted(word_count.items(), key=lambda item: item[1],reverse=True)}\n",
    "    count_columne_name = 'count_in_' + name\n",
    "    word_count_df = pd.DataFrame(list(word_count_dict.items()),columns=['word',count_columne_name])\n",
    "    return word_count_df\n"
   ]
  },
  {
   "cell_type": "code",
   "execution_count": null,
   "id": "7b0a78b7",
   "metadata": {},
   "outputs": [],
   "source": [
    "def check_if_contains(dictionary):\n",
    "    for word in ['the','in','and','of','to']:\n",
    "        if word not in dictionary.keys():\n",
    "            return False\n",
    "    return True"
   ]
  },
  {
   "cell_type": "code",
   "execution_count": 28,
   "id": "cd08069f",
   "metadata": {},
   "outputs": [],
   "source": [
    "def check_if_contains(dictionary,words):\n",
    "    for word in words:\n",
    "        if word not in dictionary.keys():\n",
    "            return False\n",
    "    return True"
   ]
  },
  {
   "cell_type": "code",
   "execution_count": null,
   "id": "34901dec",
   "metadata": {},
   "outputs": [],
   "source": [
    "def top_words_tf_idf(name):\n",
    "    name_df = wiki[wiki['name']==name]\n",
    "    word_count = name_df.iloc[0,4]\n",
    "    word_count_dict =  {k: v for k, v in sorted(word_count.items(), key=lambda item: item[1],reverse=True)}\n",
    "    count_columne_name = 'count_in_' + name\n",
    "    word_count_df = pd.DataFrame(list(word_count_dict.items()),columns=['word',count_columne_name])\n",
    "    return word_count_df"
   ]
  },
  {
   "cell_type": "code",
   "execution_count": 105,
   "id": "65792ef4",
   "metadata": {},
   "outputs": [],
   "source": [
    "import string\n",
    "def compute_length(row):\n",
    "    return len((row['text']).split())"
   ]
  },
  {
   "cell_type": "markdown",
   "id": "ed237096",
   "metadata": {},
   "source": [
    "### Load in the dataset"
   ]
  },
  {
   "cell_type": "code",
   "execution_count": 5,
   "id": "4c99d405",
   "metadata": {},
   "outputs": [],
   "source": [
    "wiki = pd.read_csv('people_wiki.csv')"
   ]
  },
  {
   "cell_type": "markdown",
   "id": "0e5dd160",
   "metadata": {},
   "source": [
    "#### word count vector "
   ]
  },
  {
   "cell_type": "code",
   "execution_count": 6,
   "id": "ff3dab62",
   "metadata": {},
   "outputs": [],
   "source": [
    "word_count = load_sparse_csr('people_wiki_word_count.npz')"
   ]
  },
  {
   "cell_type": "markdown",
   "id": "97322d99",
   "metadata": {},
   "source": [
    "#### mapping"
   ]
  },
  {
   "cell_type": "code",
   "execution_count": 7,
   "id": "80d8c09c",
   "metadata": {},
   "outputs": [],
   "source": [
    "map_index_to_word_file = open('people_wiki_map_index_to_word.json')\n",
    "map_index_to_word = json.load(map_index_to_word_file)\n",
    "map_index_to_word_file.close()"
   ]
  },
  {
   "cell_type": "markdown",
   "id": "5ee069ee",
   "metadata": {},
   "source": [
    "#### metrics - word count"
   ]
  },
  {
   "cell_type": "code",
   "execution_count": 9,
   "id": "91718dad",
   "metadata": {},
   "outputs": [],
   "source": [
    "model = NearestNeighbors(metric='euclidean',algorithm='brute')"
   ]
  },
  {
   "cell_type": "code",
   "execution_count": 10,
   "id": "dc00295f",
   "metadata": {},
   "outputs": [
    {
     "data": {
      "text/plain": [
       "NearestNeighbors(algorithm='brute', metric='euclidean')"
      ]
     },
     "execution_count": 10,
     "metadata": {},
     "output_type": "execute_result"
    }
   ],
   "source": [
    "model.fit(word_count)"
   ]
  },
  {
   "cell_type": "code",
   "execution_count": 11,
   "id": "6ada51d9",
   "metadata": {},
   "outputs": [
    {
     "name": "stdout",
     "output_type": "stream",
     "text": [
      "                                              URI          name  \\\n",
      "35817  <http://dbpedia.org/resource/Barack_Obama>  Barack Obama   \n",
      "\n",
      "                                                    text  \n",
      "35817  barack hussein obama ii brk husen bm born augu...  \n"
     ]
    }
   ],
   "source": [
    "print(wiki[wiki['name'] == 'Barack Obama'])"
   ]
  },
  {
   "cell_type": "code",
   "execution_count": 12,
   "id": "c81986a5",
   "metadata": {},
   "outputs": [],
   "source": [
    "distances, indices = model.kneighbors(word_count[35817], n_neighbors=10) "
   ]
  },
  {
   "cell_type": "code",
   "execution_count": 13,
   "id": "42c5a09e",
   "metadata": {},
   "outputs": [
    {
     "data": {
      "text/plain": [
       "array([[ 0.        , 33.07567082, 34.39476704, 36.15245497, 36.16628264,\n",
       "        36.33180425, 36.40054945, 36.49657518, 36.63331817, 36.95943723]])"
      ]
     },
     "execution_count": 13,
     "metadata": {},
     "output_type": "execute_result"
    }
   ],
   "source": [
    "distances"
   ]
  },
  {
   "cell_type": "code",
   "execution_count": 14,
   "id": "c9ebcaaa",
   "metadata": {},
   "outputs": [
    {
     "data": {
      "text/plain": [
       "array([[35817, 24478, 28447, 35357, 14754, 13229, 31423, 22745, 36364,\n",
       "         9210]])"
      ]
     },
     "execution_count": 14,
     "metadata": {},
     "output_type": "execute_result"
    }
   ],
   "source": [
    "indices"
   ]
  },
  {
   "cell_type": "code",
   "execution_count": 15,
   "id": "ff3ab1bc",
   "metadata": {},
   "outputs": [
    {
     "data": {
      "text/html": [
       "<div>\n",
       "<style scoped>\n",
       "    .dataframe tbody tr th:only-of-type {\n",
       "        vertical-align: middle;\n",
       "    }\n",
       "\n",
       "    .dataframe tbody tr th {\n",
       "        vertical-align: top;\n",
       "    }\n",
       "\n",
       "    .dataframe thead th {\n",
       "        text-align: right;\n",
       "    }\n",
       "</style>\n",
       "<table border=\"1\" class=\"dataframe\">\n",
       "  <thead>\n",
       "    <tr style=\"text-align: right;\">\n",
       "      <th></th>\n",
       "      <th>URI</th>\n",
       "      <th>name</th>\n",
       "      <th>text</th>\n",
       "    </tr>\n",
       "  </thead>\n",
       "  <tbody>\n",
       "    <tr>\n",
       "      <th>35817</th>\n",
       "      <td>&lt;http://dbpedia.org/resource/Barack_Obama&gt;</td>\n",
       "      <td>Barack Obama</td>\n",
       "      <td>barack hussein obama ii brk husen bm born augu...</td>\n",
       "    </tr>\n",
       "    <tr>\n",
       "      <th>24478</th>\n",
       "      <td>&lt;http://dbpedia.org/resource/Joe_Biden&gt;</td>\n",
       "      <td>Joe Biden</td>\n",
       "      <td>joseph robinette joe biden jr dosf rbnt badn b...</td>\n",
       "    </tr>\n",
       "    <tr>\n",
       "      <th>28447</th>\n",
       "      <td>&lt;http://dbpedia.org/resource/George_W._Bush&gt;</td>\n",
       "      <td>George W. Bush</td>\n",
       "      <td>george walker bush born july 6 1946 is an amer...</td>\n",
       "    </tr>\n",
       "    <tr>\n",
       "      <th>35357</th>\n",
       "      <td>&lt;http://dbpedia.org/resource/Lawrence_Summers&gt;</td>\n",
       "      <td>Lawrence Summers</td>\n",
       "      <td>lawrence henry larry summers born november 30 ...</td>\n",
       "    </tr>\n",
       "    <tr>\n",
       "      <th>14754</th>\n",
       "      <td>&lt;http://dbpedia.org/resource/Mitt_Romney&gt;</td>\n",
       "      <td>Mitt Romney</td>\n",
       "      <td>willard mitt romney born march 12 1947 is an a...</td>\n",
       "    </tr>\n",
       "    <tr>\n",
       "      <th>13229</th>\n",
       "      <td>&lt;http://dbpedia.org/resource/Francisco_Barrio&gt;</td>\n",
       "      <td>Francisco Barrio</td>\n",
       "      <td>francisco javier barrio terrazas born november...</td>\n",
       "    </tr>\n",
       "    <tr>\n",
       "      <th>31423</th>\n",
       "      <td>&lt;http://dbpedia.org/resource/Walter_Mondale&gt;</td>\n",
       "      <td>Walter Mondale</td>\n",
       "      <td>walter frederick fritz mondale born january 5 ...</td>\n",
       "    </tr>\n",
       "    <tr>\n",
       "      <th>22745</th>\n",
       "      <td>&lt;http://dbpedia.org/resource/Wynn_Normington_H...</td>\n",
       "      <td>Wynn Normington Hugh-Jones</td>\n",
       "      <td>sir wynn normington hughjones kb sometimes kno...</td>\n",
       "    </tr>\n",
       "    <tr>\n",
       "      <th>36364</th>\n",
       "      <td>&lt;http://dbpedia.org/resource/Don_Bonker&gt;</td>\n",
       "      <td>Don Bonker</td>\n",
       "      <td>don leroy bonker born march 7 1937 in denver c...</td>\n",
       "    </tr>\n",
       "    <tr>\n",
       "      <th>9210</th>\n",
       "      <td>&lt;http://dbpedia.org/resource/Andy_Anstett&gt;</td>\n",
       "      <td>Andy Anstett</td>\n",
       "      <td>andrue john andy anstett born june 25 1946 is ...</td>\n",
       "    </tr>\n",
       "  </tbody>\n",
       "</table>\n",
       "</div>"
      ],
      "text/plain": [
       "                                                     URI  \\\n",
       "35817         <http://dbpedia.org/resource/Barack_Obama>   \n",
       "24478            <http://dbpedia.org/resource/Joe_Biden>   \n",
       "28447       <http://dbpedia.org/resource/George_W._Bush>   \n",
       "35357     <http://dbpedia.org/resource/Lawrence_Summers>   \n",
       "14754          <http://dbpedia.org/resource/Mitt_Romney>   \n",
       "13229     <http://dbpedia.org/resource/Francisco_Barrio>   \n",
       "31423       <http://dbpedia.org/resource/Walter_Mondale>   \n",
       "22745  <http://dbpedia.org/resource/Wynn_Normington_H...   \n",
       "36364           <http://dbpedia.org/resource/Don_Bonker>   \n",
       "9210          <http://dbpedia.org/resource/Andy_Anstett>   \n",
       "\n",
       "                             name  \\\n",
       "35817                Barack Obama   \n",
       "24478                   Joe Biden   \n",
       "28447              George W. Bush   \n",
       "35357            Lawrence Summers   \n",
       "14754                 Mitt Romney   \n",
       "13229            Francisco Barrio   \n",
       "31423              Walter Mondale   \n",
       "22745  Wynn Normington Hugh-Jones   \n",
       "36364                  Don Bonker   \n",
       "9210                 Andy Anstett   \n",
       "\n",
       "                                                    text  \n",
       "35817  barack hussein obama ii brk husen bm born augu...  \n",
       "24478  joseph robinette joe biden jr dosf rbnt badn b...  \n",
       "28447  george walker bush born july 6 1946 is an amer...  \n",
       "35357  lawrence henry larry summers born november 30 ...  \n",
       "14754  willard mitt romney born march 12 1947 is an a...  \n",
       "13229  francisco javier barrio terrazas born november...  \n",
       "31423  walter frederick fritz mondale born january 5 ...  \n",
       "22745  sir wynn normington hughjones kb sometimes kno...  \n",
       "36364  don leroy bonker born march 7 1937 in denver c...  \n",
       "9210   andrue john andy anstett born june 25 1946 is ...  "
      ]
     },
     "execution_count": 15,
     "metadata": {},
     "output_type": "execute_result"
    }
   ],
   "source": [
    "wiki.iloc[indices[0]]"
   ]
  },
  {
   "cell_type": "code",
   "execution_count": 16,
   "id": "1a5f9cc2",
   "metadata": {},
   "outputs": [],
   "source": [
    "wiki['word_count'] = unpack_dict(word_count, map_index_to_word)"
   ]
  },
  {
   "cell_type": "code",
   "execution_count": 18,
   "id": "ddeade74",
   "metadata": {},
   "outputs": [],
   "source": [
    "obama_words = top_words('Barack Obama')\n",
    "barrio_words = top_words('Francisco Barrio')\n"
   ]
  },
  {
   "cell_type": "code",
   "execution_count": 19,
   "id": "79ffc492",
   "metadata": {},
   "outputs": [
    {
     "data": {
      "text/html": [
       "<div>\n",
       "<style scoped>\n",
       "    .dataframe tbody tr th:only-of-type {\n",
       "        vertical-align: middle;\n",
       "    }\n",
       "\n",
       "    .dataframe tbody tr th {\n",
       "        vertical-align: top;\n",
       "    }\n",
       "\n",
       "    .dataframe thead th {\n",
       "        text-align: right;\n",
       "    }\n",
       "</style>\n",
       "<table border=\"1\" class=\"dataframe\">\n",
       "  <thead>\n",
       "    <tr style=\"text-align: right;\">\n",
       "      <th></th>\n",
       "      <th>word</th>\n",
       "      <th>count_in_Barack Obama</th>\n",
       "      <th>count_in_Francisco Barrio</th>\n",
       "    </tr>\n",
       "  </thead>\n",
       "  <tbody>\n",
       "    <tr>\n",
       "      <th>0</th>\n",
       "      <td>the</td>\n",
       "      <td>40</td>\n",
       "      <td>36</td>\n",
       "    </tr>\n",
       "    <tr>\n",
       "      <th>1</th>\n",
       "      <td>in</td>\n",
       "      <td>30</td>\n",
       "      <td>17</td>\n",
       "    </tr>\n",
       "    <tr>\n",
       "      <th>2</th>\n",
       "      <td>and</td>\n",
       "      <td>21</td>\n",
       "      <td>18</td>\n",
       "    </tr>\n",
       "    <tr>\n",
       "      <th>3</th>\n",
       "      <td>of</td>\n",
       "      <td>18</td>\n",
       "      <td>24</td>\n",
       "    </tr>\n",
       "    <tr>\n",
       "      <th>4</th>\n",
       "      <td>to</td>\n",
       "      <td>14</td>\n",
       "      <td>9</td>\n",
       "    </tr>\n",
       "  </tbody>\n",
       "</table>\n",
       "</div>"
      ],
      "text/plain": [
       "  word  count_in_Barack Obama  count_in_Francisco Barrio\n",
       "0  the                     40                         36\n",
       "1   in                     30                         17\n",
       "2  and                     21                         18\n",
       "3   of                     18                         24\n",
       "4   to                     14                          9"
      ]
     },
     "execution_count": 19,
     "metadata": {},
     "output_type": "execute_result"
    }
   ],
   "source": [
    "pd.merge(obama_words,barrio_words,how = 'inner').head()"
   ]
  },
  {
   "cell_type": "markdown",
   "id": "125b6a9f",
   "metadata": {},
   "source": [
    "#####  check how many entries in db contain all 5 words"
   ]
  },
  {
   "cell_type": "code",
   "execution_count": 21,
   "id": "1eee0303",
   "metadata": {},
   "outputs": [
    {
     "data": {
      "text/html": [
       "<div>\n",
       "<style scoped>\n",
       "    .dataframe tbody tr th:only-of-type {\n",
       "        vertical-align: middle;\n",
       "    }\n",
       "\n",
       "    .dataframe tbody tr th {\n",
       "        vertical-align: top;\n",
       "    }\n",
       "\n",
       "    .dataframe thead th {\n",
       "        text-align: right;\n",
       "    }\n",
       "</style>\n",
       "<table border=\"1\" class=\"dataframe\">\n",
       "  <thead>\n",
       "    <tr style=\"text-align: right;\">\n",
       "      <th></th>\n",
       "      <th>URI</th>\n",
       "      <th>name</th>\n",
       "      <th>text</th>\n",
       "      <th>word_count</th>\n",
       "    </tr>\n",
       "  </thead>\n",
       "  <tbody>\n",
       "    <tr>\n",
       "      <th>0</th>\n",
       "      <td>&lt;http://dbpedia.org/resource/Digby_Morrell&gt;</td>\n",
       "      <td>Digby Morrell</td>\n",
       "      <td>digby morrell born 10 october 1979 is a former...</td>\n",
       "      <td>{'brisbaneafter': 1, 'edflhe': 1, 'aflfrom': 1...</td>\n",
       "    </tr>\n",
       "    <tr>\n",
       "      <th>1</th>\n",
       "      <td>&lt;http://dbpedia.org/resource/Alfred_J._Lewy&gt;</td>\n",
       "      <td>Alfred J. Lewy</td>\n",
       "      <td>alfred j lewy aka sandy lewy graduated from un...</td>\n",
       "      <td>{'maladaptation': 1, 'phasedelay': 1, '25hour'...</td>\n",
       "    </tr>\n",
       "    <tr>\n",
       "      <th>2</th>\n",
       "      <td>&lt;http://dbpedia.org/resource/Harpdog_Brown&gt;</td>\n",
       "      <td>Harpdog Brown</td>\n",
       "      <td>harpdog brown is a singer and harmonica player...</td>\n",
       "      <td>{'germanyover': 1, 'bluesgospel': 1, 'harpdog'...</td>\n",
       "    </tr>\n",
       "    <tr>\n",
       "      <th>3</th>\n",
       "      <td>&lt;http://dbpedia.org/resource/Franz_Rottensteiner&gt;</td>\n",
       "      <td>Franz Rottensteiner</td>\n",
       "      <td>franz rottensteiner born in waidmannsfeld lowe...</td>\n",
       "      <td>{'fantasticrottensteiner': 1, 'waidmannsfeld':...</td>\n",
       "    </tr>\n",
       "    <tr>\n",
       "      <th>6</th>\n",
       "      <td>&lt;http://dbpedia.org/resource/Aaron_LaCrate&gt;</td>\n",
       "      <td>Aaron LaCrate</td>\n",
       "      <td>aaron lacrate is an american music producer re...</td>\n",
       "      <td>{'pellatfinet': 1, 'lacrates': 1, 'baltimoreaa...</td>\n",
       "    </tr>\n",
       "    <tr>\n",
       "      <th>...</th>\n",
       "      <td>...</td>\n",
       "      <td>...</td>\n",
       "      <td>...</td>\n",
       "      <td>...</td>\n",
       "    </tr>\n",
       "    <tr>\n",
       "      <th>59065</th>\n",
       "      <td>&lt;http://dbpedia.org/resource/Dee_Brown_(basket...</td>\n",
       "      <td>Dee Brown (basketball, born 1968)</td>\n",
       "      <td>decovan kadell dee brown born november 29 1968...</td>\n",
       "      <td>{'2k': 2, 'decovan': 1, '2k12on': 1, 'nolook':...</td>\n",
       "    </tr>\n",
       "    <tr>\n",
       "      <th>59066</th>\n",
       "      <td>&lt;http://dbpedia.org/resource/Olari_Elts&gt;</td>\n",
       "      <td>Olari Elts</td>\n",
       "      <td>olari elts born april 27 1971 in tallinn eston...</td>\n",
       "      <td>{'orchestraolaris': 1, 'ivth': 1, 'nyyd': 1, '...</td>\n",
       "    </tr>\n",
       "    <tr>\n",
       "      <th>59068</th>\n",
       "      <td>&lt;http://dbpedia.org/resource/David_Cass_(footb...</td>\n",
       "      <td>David Cass (footballer)</td>\n",
       "      <td>david william royce cass born 27 march 1962 in...</td>\n",
       "      <td>{'3257': 1, '15696': 1, 'grewcock': 1, 'orient...</td>\n",
       "    </tr>\n",
       "    <tr>\n",
       "      <th>59069</th>\n",
       "      <td>&lt;http://dbpedia.org/resource/Keith_Elias&gt;</td>\n",
       "      <td>Keith Elias</td>\n",
       "      <td>keith hector elias born february 3 1972 in lac...</td>\n",
       "      <td>{'recordselias': 1, 'cochampionship': 1, 'xfl'...</td>\n",
       "    </tr>\n",
       "    <tr>\n",
       "      <th>59070</th>\n",
       "      <td>&lt;http://dbpedia.org/resource/Fawaz_Damrah&gt;</td>\n",
       "      <td>Fawaz Damrah</td>\n",
       "      <td>fawaz mohammed damrah arabic fawwz damra was t...</td>\n",
       "      <td>{'damra': 1, 'damrah': 4, 'fawwz': 1, 'trustee...</td>\n",
       "    </tr>\n",
       "  </tbody>\n",
       "</table>\n",
       "<p>56066 rows × 4 columns</p>\n",
       "</div>"
      ],
      "text/plain": [
       "                                                     URI  \\\n",
       "0            <http://dbpedia.org/resource/Digby_Morrell>   \n",
       "1           <http://dbpedia.org/resource/Alfred_J._Lewy>   \n",
       "2            <http://dbpedia.org/resource/Harpdog_Brown>   \n",
       "3      <http://dbpedia.org/resource/Franz_Rottensteiner>   \n",
       "6            <http://dbpedia.org/resource/Aaron_LaCrate>   \n",
       "...                                                  ...   \n",
       "59065  <http://dbpedia.org/resource/Dee_Brown_(basket...   \n",
       "59066           <http://dbpedia.org/resource/Olari_Elts>   \n",
       "59068  <http://dbpedia.org/resource/David_Cass_(footb...   \n",
       "59069          <http://dbpedia.org/resource/Keith_Elias>   \n",
       "59070         <http://dbpedia.org/resource/Fawaz_Damrah>   \n",
       "\n",
       "                                    name  \\\n",
       "0                          Digby Morrell   \n",
       "1                         Alfred J. Lewy   \n",
       "2                          Harpdog Brown   \n",
       "3                    Franz Rottensteiner   \n",
       "6                          Aaron LaCrate   \n",
       "...                                  ...   \n",
       "59065  Dee Brown (basketball, born 1968)   \n",
       "59066                         Olari Elts   \n",
       "59068            David Cass (footballer)   \n",
       "59069                        Keith Elias   \n",
       "59070                       Fawaz Damrah   \n",
       "\n",
       "                                                    text  \\\n",
       "0      digby morrell born 10 october 1979 is a former...   \n",
       "1      alfred j lewy aka sandy lewy graduated from un...   \n",
       "2      harpdog brown is a singer and harmonica player...   \n",
       "3      franz rottensteiner born in waidmannsfeld lowe...   \n",
       "6      aaron lacrate is an american music producer re...   \n",
       "...                                                  ...   \n",
       "59065  decovan kadell dee brown born november 29 1968...   \n",
       "59066  olari elts born april 27 1971 in tallinn eston...   \n",
       "59068  david william royce cass born 27 march 1962 in...   \n",
       "59069  keith hector elias born february 3 1972 in lac...   \n",
       "59070  fawaz mohammed damrah arabic fawwz damra was t...   \n",
       "\n",
       "                                              word_count  \n",
       "0      {'brisbaneafter': 1, 'edflhe': 1, 'aflfrom': 1...  \n",
       "1      {'maladaptation': 1, 'phasedelay': 1, '25hour'...  \n",
       "2      {'germanyover': 1, 'bluesgospel': 1, 'harpdog'...  \n",
       "3      {'fantasticrottensteiner': 1, 'waidmannsfeld':...  \n",
       "6      {'pellatfinet': 1, 'lacrates': 1, 'baltimoreaa...  \n",
       "...                                                  ...  \n",
       "59065  {'2k': 2, 'decovan': 1, '2k12on': 1, 'nolook':...  \n",
       "59066  {'orchestraolaris': 1, 'ivth': 1, 'nyyd': 1, '...  \n",
       "59068  {'3257': 1, '15696': 1, 'grewcock': 1, 'orient...  \n",
       "59069  {'recordselias': 1, 'cochampionship': 1, 'xfl'...  \n",
       "59070  {'damra': 1, 'damrah': 4, 'fawwz': 1, 'trustee...  \n",
       "\n",
       "[56066 rows x 4 columns]"
      ]
     },
     "execution_count": 21,
     "metadata": {},
     "output_type": "execute_result"
    }
   ],
   "source": [
    "wiki[wiki['word_count'].apply(check_if_contains)==True]"
   ]
  },
  {
   "cell_type": "markdown",
   "id": "1b7b0197",
   "metadata": {},
   "source": [
    "### TF-IDF"
   ]
  },
  {
   "cell_type": "code",
   "execution_count": 22,
   "id": "1d33073a",
   "metadata": {},
   "outputs": [],
   "source": [
    "tf_idf = load_sparse_csr('people_wiki_tf_idf.npz')\n",
    "wiki['tf_idf'] = unpack_dict(tf_idf, map_index_to_word)"
   ]
  },
  {
   "cell_type": "code",
   "execution_count": 23,
   "id": "bb14a1c4",
   "metadata": {},
   "outputs": [
    {
     "data": {
      "text/plain": [
       "NearestNeighbors(algorithm='brute', metric='euclidean')"
      ]
     },
     "execution_count": 23,
     "metadata": {},
     "output_type": "execute_result"
    }
   ],
   "source": [
    "model_tf_idf = NearestNeighbors(metric='euclidean', algorithm='brute')\n",
    "model_tf_idf.fit(tf_idf)"
   ]
  },
  {
   "cell_type": "code",
   "execution_count": 24,
   "id": "ed0cd06e",
   "metadata": {},
   "outputs": [],
   "source": [
    "distances, indices = model_tf_idf.kneighbors(tf_idf[35817], n_neighbors=10)"
   ]
  },
  {
   "cell_type": "code",
   "execution_count": 25,
   "id": "249b4e83",
   "metadata": {},
   "outputs": [
    {
     "data": {
      "text/plain": [
       "35817               Barack Obama\n",
       "7914               Phil Schiliro\n",
       "46811              Jeff Sessions\n",
       "44681     Jesse Lee (politician)\n",
       "38376             Samantha Power\n",
       "6507                Bob Menendez\n",
       "38714    Eric Stern (politician)\n",
       "44825             James A. Guest\n",
       "44368       Roland Grossenbacher\n",
       "33417              Tulsi Gabbard\n",
       "Name: name, dtype: object"
      ]
     },
     "execution_count": 25,
     "metadata": {},
     "output_type": "execute_result"
    }
   ],
   "source": [
    "wiki.iloc[indices[0],1]"
   ]
  },
  {
   "cell_type": "code",
   "execution_count": 27,
   "id": "27c64314",
   "metadata": {},
   "outputs": [
    {
     "data": {
      "text/html": [
       "<div>\n",
       "<style scoped>\n",
       "    .dataframe tbody tr th:only-of-type {\n",
       "        vertical-align: middle;\n",
       "    }\n",
       "\n",
       "    .dataframe tbody tr th {\n",
       "        vertical-align: top;\n",
       "    }\n",
       "\n",
       "    .dataframe thead th {\n",
       "        text-align: right;\n",
       "    }\n",
       "</style>\n",
       "<table border=\"1\" class=\"dataframe\">\n",
       "  <thead>\n",
       "    <tr style=\"text-align: right;\">\n",
       "      <th></th>\n",
       "      <th>word</th>\n",
       "      <th>count_in_Barack Obama</th>\n",
       "      <th>count_in_Francisco Barrio</th>\n",
       "    </tr>\n",
       "  </thead>\n",
       "  <tbody>\n",
       "    <tr>\n",
       "      <th>0</th>\n",
       "      <td>control</td>\n",
       "      <td>14.887061</td>\n",
       "      <td>7.443530</td>\n",
       "    </tr>\n",
       "    <tr>\n",
       "      <th>1</th>\n",
       "      <td>term</td>\n",
       "      <td>9.319342</td>\n",
       "      <td>3.106447</td>\n",
       "    </tr>\n",
       "    <tr>\n",
       "      <th>2</th>\n",
       "      <td>presidential</td>\n",
       "      <td>7.386955</td>\n",
       "      <td>3.693478</td>\n",
       "    </tr>\n",
       "    <tr>\n",
       "      <th>3</th>\n",
       "      <td>president</td>\n",
       "      <td>7.226869</td>\n",
       "      <td>1.806717</td>\n",
       "    </tr>\n",
       "    <tr>\n",
       "      <th>4</th>\n",
       "      <td>party</td>\n",
       "      <td>7.062033</td>\n",
       "      <td>7.062033</td>\n",
       "    </tr>\n",
       "  </tbody>\n",
       "</table>\n",
       "</div>"
      ],
      "text/plain": [
       "           word  count_in_Barack Obama  count_in_Francisco Barrio\n",
       "0       control              14.887061                   7.443530\n",
       "1          term               9.319342                   3.106447\n",
       "2  presidential               7.386955                   3.693478\n",
       "3     president               7.226869                   1.806717\n",
       "4         party               7.062033                   7.062033"
      ]
     },
     "execution_count": 27,
     "metadata": {},
     "output_type": "execute_result"
    }
   ],
   "source": [
    "obama_words = top_words_tf_idf('Barack Obama')\n",
    "barrio_words = top_words_tf_idf('Francisco Barrio')\n",
    "pd.merge(obama_words,barrio_words,how = 'inner').head()"
   ]
  },
  {
   "cell_type": "markdown",
   "id": "e5e394d0",
   "metadata": {},
   "source": [
    "#####  check how many entries in db contain all 5 words"
   ]
  },
  {
   "cell_type": "code",
   "execution_count": 29,
   "id": "8ace3fba",
   "metadata": {},
   "outputs": [],
   "source": [
    "words_to_check = ['control','term','presidential','president','party']"
   ]
  },
  {
   "cell_type": "code",
   "execution_count": 37,
   "id": "1f4640df",
   "metadata": {},
   "outputs": [
    {
     "data": {
      "text/plain": [
       "(17, 5)"
      ]
     },
     "execution_count": 37,
     "metadata": {},
     "output_type": "execute_result"
    }
   ],
   "source": [
    "words_present = wiki['word_count'].apply(check_if_contains,words = words_to_check)\n",
    "wiki[words_present == True].shape"
   ]
  },
  {
   "cell_type": "code",
   "execution_count": 38,
   "id": "a546ec51",
   "metadata": {},
   "outputs": [
    {
     "data": {
      "text/html": [
       "<div>\n",
       "<style scoped>\n",
       "    .dataframe tbody tr th:only-of-type {\n",
       "        vertical-align: middle;\n",
       "    }\n",
       "\n",
       "    .dataframe tbody tr th {\n",
       "        vertical-align: top;\n",
       "    }\n",
       "\n",
       "    .dataframe thead th {\n",
       "        text-align: right;\n",
       "    }\n",
       "</style>\n",
       "<table border=\"1\" class=\"dataframe\">\n",
       "  <thead>\n",
       "    <tr style=\"text-align: right;\">\n",
       "      <th></th>\n",
       "      <th>URI</th>\n",
       "      <th>name</th>\n",
       "      <th>text</th>\n",
       "      <th>word_count</th>\n",
       "      <th>tf_idf</th>\n",
       "    </tr>\n",
       "  </thead>\n",
       "  <tbody>\n",
       "    <tr>\n",
       "      <th>1177</th>\n",
       "      <td>&lt;http://dbpedia.org/resource/Donald_Fowler&gt;</td>\n",
       "      <td>Donald Fowler</td>\n",
       "      <td>donald l fowler born 1935 served as national c...</td>\n",
       "      <td>{'atlantafowler': 1, 'noonlate': 1, 'carolinaf...</td>\n",
       "      <td>{'atlantafowler': 10.986495389225194, 'noonlat...</td>\n",
       "    </tr>\n",
       "    <tr>\n",
       "      <th>1413</th>\n",
       "      <td>&lt;http://dbpedia.org/resource/Chris_Redfern&gt;</td>\n",
       "      <td>Chris Redfern</td>\n",
       "      <td>chris redfern born 1964 south bend indiana is ...</td>\n",
       "      <td>{'twiceohio': 1, 'courtchairman': 1, 'democrat...</td>\n",
       "      <td>{'twiceohio': 10.986495389225194, 'courtchairm...</td>\n",
       "    </tr>\n",
       "    <tr>\n",
       "      <th>4874</th>\n",
       "      <td>&lt;http://dbpedia.org/resource/Bernard_Kenny&gt;</td>\n",
       "      <td>Bernard Kenny</td>\n",
       "      <td>bernard f kenny jr born november 17 1946 in je...</td>\n",
       "      <td>{'iraskenny': 1, 'vacancya': 1, 'kerrythe': 1,...</td>\n",
       "      <td>{'iraskenny': 10.986495389225194, 'vacancya': ...</td>\n",
       "    </tr>\n",
       "    <tr>\n",
       "      <th>9817</th>\n",
       "      <td>&lt;http://dbpedia.org/resource/Jerry_Rawlings&gt;</td>\n",
       "      <td>Jerry Rawlings</td>\n",
       "      <td>jerry john rawlings born 22 june 1947 is a for...</td>\n",
       "      <td>{'akuffo': 2, 'dtatthe': 1, 'housecleaning': 1...</td>\n",
       "      <td>{'akuffo': 21.972990778450388, 'dtatthe': 10.9...</td>\n",
       "    </tr>\n",
       "    <tr>\n",
       "      <th>12371</th>\n",
       "      <td>&lt;http://dbpedia.org/resource/Morley_Winograd&gt;</td>\n",
       "      <td>Morley Winograd</td>\n",
       "      <td>morley winograd is an american author speaker ...</td>\n",
       "      <td>{'botkins': 1, 'hais': 1, 'californiawinograd'...</td>\n",
       "      <td>{'botkins': 10.986495389225194, 'hais': 10.986...</td>\n",
       "    </tr>\n",
       "    <tr>\n",
       "      <th>13229</th>\n",
       "      <td>&lt;http://dbpedia.org/resource/Francisco_Barrio&gt;</td>\n",
       "      <td>Francisco Barrio</td>\n",
       "      <td>francisco javier barrio terrazas born november...</td>\n",
       "      <td>{'politicaldemocratic': 1, 'creelin': 1, 'sate...</td>\n",
       "      <td>{'politicaldemocratic': 10.986495389225194, 'c...</td>\n",
       "    </tr>\n",
       "    <tr>\n",
       "      <th>15325</th>\n",
       "      <td>&lt;http://dbpedia.org/resource/Chen_Shui-bian&gt;</td>\n",
       "      <td>Chen Shui-bian</td>\n",
       "      <td>chen shuibian born october 12 1950 is a former...</td>\n",
       "      <td>{'shuchen': 1, 'neoformosa': 1, 'abian': 1, 'y...</td>\n",
       "      <td>{'shuchen': 10.986495389225194, 'neoformosa': ...</td>\n",
       "    </tr>\n",
       "    <tr>\n",
       "      <th>18040</th>\n",
       "      <td>&lt;http://dbpedia.org/resource/David_L._Aaron&gt;</td>\n",
       "      <td>David L. Aaron</td>\n",
       "      <td>david laurence aaron born 21 august 1938 chica...</td>\n",
       "      <td>{'destangs': 1, 'schlessenger': 1, 'destang': ...</td>\n",
       "      <td>{'destangs': 10.986495389225194, 'schlessenger...</td>\n",
       "    </tr>\n",
       "    <tr>\n",
       "      <th>24478</th>\n",
       "      <td>&lt;http://dbpedia.org/resource/Joe_Biden&gt;</td>\n",
       "      <td>Joe Biden</td>\n",
       "      <td>joseph robinette joe biden jr dosf rbnt badn b...</td>\n",
       "      <td>{'badn': 1, 'rbnt': 1, 'thomasbiden': 1, 'dela...</td>\n",
       "      <td>{'badn': 10.986495389225194, 'rbnt': 10.986495...</td>\n",
       "    </tr>\n",
       "    <tr>\n",
       "      <th>25258</th>\n",
       "      <td>&lt;http://dbpedia.org/resource/Marc_Ravalomanana&gt;</td>\n",
       "      <td>Marc Ravalomanana</td>\n",
       "      <td>marc ravalomanana malagasy ravalumanan born 12...</td>\n",
       "      <td>{'roundduring': 1, 'iarivo': 1, 'solidarityopp...</td>\n",
       "      <td>{'roundduring': 10.986495389225194, 'iarivo': ...</td>\n",
       "    </tr>\n",
       "    <tr>\n",
       "      <th>28447</th>\n",
       "      <td>&lt;http://dbpedia.org/resource/George_W._Bush&gt;</td>\n",
       "      <td>George W. Bush</td>\n",
       "      <td>george walker bush born july 6 1946 is an amer...</td>\n",
       "      <td>{'torturebush': 1, 'kingdombush': 1, 'floridae...</td>\n",
       "      <td>{'torturebush': 10.986495389225194, 'kingdombu...</td>\n",
       "    </tr>\n",
       "    <tr>\n",
       "      <th>35541</th>\n",
       "      <td>&lt;http://dbpedia.org/resource/Jimmy_Carter&gt;</td>\n",
       "      <td>Jimmy Carter</td>\n",
       "      <td>james earl jimmy carter jr born october 1 1924...</td>\n",
       "      <td>{'reagancarter': 1, 'prizecarter': 1, 'preside...</td>\n",
       "      <td>{'reagancarter': 10.986495389225194, 'prizecar...</td>\n",
       "    </tr>\n",
       "    <tr>\n",
       "      <th>35817</th>\n",
       "      <td>&lt;http://dbpedia.org/resource/Barack_Obama&gt;</td>\n",
       "      <td>Barack Obama</td>\n",
       "      <td>barack hussein obama ii brk husen bm born augu...</td>\n",
       "      <td>{'husen': 1, '2012obama': 1, 'laureateduring':...</td>\n",
       "      <td>{'husen': 10.986495389225194, '2012obama': 10....</td>\n",
       "    </tr>\n",
       "    <tr>\n",
       "      <th>36452</th>\n",
       "      <td>&lt;http://dbpedia.org/resource/Bill_Clinton&gt;</td>\n",
       "      <td>Bill Clinton</td>\n",
       "      <td>william jefferson bill clinton born william je...</td>\n",
       "      <td>{'associationclinton': 1, 'endofoffice': 1, 'p...</td>\n",
       "      <td>{'associationclinton': 10.986495389225194, 'en...</td>\n",
       "    </tr>\n",
       "    <tr>\n",
       "      <th>41037</th>\n",
       "      <td>&lt;http://dbpedia.org/resource/Lol_Mahamat_Choua&gt;</td>\n",
       "      <td>Lol Mahamat Choua</td>\n",
       "      <td>lol mahamat choua born 1939 is a chadian polit...</td>\n",
       "      <td>{'kanembu': 2, 'partyan': 1, 'meetingunder': 1...</td>\n",
       "      <td>{'kanembu': 21.972990778450388, 'partyan': 10....</td>\n",
       "    </tr>\n",
       "    <tr>\n",
       "      <th>49924</th>\n",
       "      <td>&lt;http://dbpedia.org/resource/Pak_Pong-ju&gt;</td>\n",
       "      <td>Pak Pong-ju</td>\n",
       "      <td>pak pongju born october 24 1939 is the current...</td>\n",
       "      <td>{'kwp': 1, '2007pak': 1, 'kyeryong': 1, 'paek'...</td>\n",
       "      <td>{'kwp': 10.986495389225194, '2007pak': 10.9864...</td>\n",
       "    </tr>\n",
       "    <tr>\n",
       "      <th>53102</th>\n",
       "      <td>&lt;http://dbpedia.org/resource/Ewart_Brown&gt;</td>\n",
       "      <td>Ewart Brown</td>\n",
       "      <td>ewart frederick brown jr born 1946 was the nin...</td>\n",
       "      <td>{'15t': 1, 'magnetom': 1, 'browndarrell': 1, '...</td>\n",
       "      <td>{'15t': 10.986495389225194, 'magnetom': 10.986...</td>\n",
       "    </tr>\n",
       "  </tbody>\n",
       "</table>\n",
       "</div>"
      ],
      "text/plain": [
       "                                                   URI               name  \\\n",
       "1177       <http://dbpedia.org/resource/Donald_Fowler>      Donald Fowler   \n",
       "1413       <http://dbpedia.org/resource/Chris_Redfern>      Chris Redfern   \n",
       "4874       <http://dbpedia.org/resource/Bernard_Kenny>      Bernard Kenny   \n",
       "9817      <http://dbpedia.org/resource/Jerry_Rawlings>     Jerry Rawlings   \n",
       "12371    <http://dbpedia.org/resource/Morley_Winograd>    Morley Winograd   \n",
       "13229   <http://dbpedia.org/resource/Francisco_Barrio>   Francisco Barrio   \n",
       "15325     <http://dbpedia.org/resource/Chen_Shui-bian>     Chen Shui-bian   \n",
       "18040     <http://dbpedia.org/resource/David_L._Aaron>     David L. Aaron   \n",
       "24478          <http://dbpedia.org/resource/Joe_Biden>          Joe Biden   \n",
       "25258  <http://dbpedia.org/resource/Marc_Ravalomanana>  Marc Ravalomanana   \n",
       "28447     <http://dbpedia.org/resource/George_W._Bush>     George W. Bush   \n",
       "35541       <http://dbpedia.org/resource/Jimmy_Carter>       Jimmy Carter   \n",
       "35817       <http://dbpedia.org/resource/Barack_Obama>       Barack Obama   \n",
       "36452       <http://dbpedia.org/resource/Bill_Clinton>       Bill Clinton   \n",
       "41037  <http://dbpedia.org/resource/Lol_Mahamat_Choua>  Lol Mahamat Choua   \n",
       "49924        <http://dbpedia.org/resource/Pak_Pong-ju>        Pak Pong-ju   \n",
       "53102        <http://dbpedia.org/resource/Ewart_Brown>        Ewart Brown   \n",
       "\n",
       "                                                    text  \\\n",
       "1177   donald l fowler born 1935 served as national c...   \n",
       "1413   chris redfern born 1964 south bend indiana is ...   \n",
       "4874   bernard f kenny jr born november 17 1946 in je...   \n",
       "9817   jerry john rawlings born 22 june 1947 is a for...   \n",
       "12371  morley winograd is an american author speaker ...   \n",
       "13229  francisco javier barrio terrazas born november...   \n",
       "15325  chen shuibian born october 12 1950 is a former...   \n",
       "18040  david laurence aaron born 21 august 1938 chica...   \n",
       "24478  joseph robinette joe biden jr dosf rbnt badn b...   \n",
       "25258  marc ravalomanana malagasy ravalumanan born 12...   \n",
       "28447  george walker bush born july 6 1946 is an amer...   \n",
       "35541  james earl jimmy carter jr born october 1 1924...   \n",
       "35817  barack hussein obama ii brk husen bm born augu...   \n",
       "36452  william jefferson bill clinton born william je...   \n",
       "41037  lol mahamat choua born 1939 is a chadian polit...   \n",
       "49924  pak pongju born october 24 1939 is the current...   \n",
       "53102  ewart frederick brown jr born 1946 was the nin...   \n",
       "\n",
       "                                              word_count  \\\n",
       "1177   {'atlantafowler': 1, 'noonlate': 1, 'carolinaf...   \n",
       "1413   {'twiceohio': 1, 'courtchairman': 1, 'democrat...   \n",
       "4874   {'iraskenny': 1, 'vacancya': 1, 'kerrythe': 1,...   \n",
       "9817   {'akuffo': 2, 'dtatthe': 1, 'housecleaning': 1...   \n",
       "12371  {'botkins': 1, 'hais': 1, 'californiawinograd'...   \n",
       "13229  {'politicaldemocratic': 1, 'creelin': 1, 'sate...   \n",
       "15325  {'shuchen': 1, 'neoformosa': 1, 'abian': 1, 'y...   \n",
       "18040  {'destangs': 1, 'schlessenger': 1, 'destang': ...   \n",
       "24478  {'badn': 1, 'rbnt': 1, 'thomasbiden': 1, 'dela...   \n",
       "25258  {'roundduring': 1, 'iarivo': 1, 'solidarityopp...   \n",
       "28447  {'torturebush': 1, 'kingdombush': 1, 'floridae...   \n",
       "35541  {'reagancarter': 1, 'prizecarter': 1, 'preside...   \n",
       "35817  {'husen': 1, '2012obama': 1, 'laureateduring':...   \n",
       "36452  {'associationclinton': 1, 'endofoffice': 1, 'p...   \n",
       "41037  {'kanembu': 2, 'partyan': 1, 'meetingunder': 1...   \n",
       "49924  {'kwp': 1, '2007pak': 1, 'kyeryong': 1, 'paek'...   \n",
       "53102  {'15t': 1, 'magnetom': 1, 'browndarrell': 1, '...   \n",
       "\n",
       "                                                  tf_idf  \n",
       "1177   {'atlantafowler': 10.986495389225194, 'noonlat...  \n",
       "1413   {'twiceohio': 10.986495389225194, 'courtchairm...  \n",
       "4874   {'iraskenny': 10.986495389225194, 'vacancya': ...  \n",
       "9817   {'akuffo': 21.972990778450388, 'dtatthe': 10.9...  \n",
       "12371  {'botkins': 10.986495389225194, 'hais': 10.986...  \n",
       "13229  {'politicaldemocratic': 10.986495389225194, 'c...  \n",
       "15325  {'shuchen': 10.986495389225194, 'neoformosa': ...  \n",
       "18040  {'destangs': 10.986495389225194, 'schlessenger...  \n",
       "24478  {'badn': 10.986495389225194, 'rbnt': 10.986495...  \n",
       "25258  {'roundduring': 10.986495389225194, 'iarivo': ...  \n",
       "28447  {'torturebush': 10.986495389225194, 'kingdombu...  \n",
       "35541  {'reagancarter': 10.986495389225194, 'prizecar...  \n",
       "35817  {'husen': 10.986495389225194, '2012obama': 10....  \n",
       "36452  {'associationclinton': 10.986495389225194, 'en...  \n",
       "41037  {'kanembu': 21.972990778450388, 'partyan': 10....  \n",
       "49924  {'kwp': 10.986495389225194, '2007pak': 10.9864...  \n",
       "53102  {'15t': 10.986495389225194, 'magnetom': 10.986...  "
      ]
     },
     "execution_count": 38,
     "metadata": {},
     "output_type": "execute_result"
    }
   ],
   "source": [
    "wiki[words_present == True]"
   ]
  },
  {
   "cell_type": "markdown",
   "id": "93405054",
   "metadata": {},
   "source": [
    "#### calculate difference between Obama and Biden using tf-idf"
   ]
  },
  {
   "cell_type": "code",
   "execution_count": 50,
   "id": "38aa3e95",
   "metadata": {},
   "outputs": [],
   "source": [
    "Obama = tf_idf[35817].toarray()"
   ]
  },
  {
   "cell_type": "code",
   "execution_count": 51,
   "id": "3189ce5b",
   "metadata": {},
   "outputs": [],
   "source": [
    "Biden = tf_idf[24478].toarray()"
   ]
  },
  {
   "cell_type": "code",
   "execution_count": 62,
   "id": "a3d2c0c0",
   "metadata": {},
   "outputs": [
    {
     "data": {
      "text/plain": [
       "15202.262658449836"
      ]
     },
     "execution_count": 62,
     "metadata": {},
     "output_type": "execute_result"
    }
   ],
   "source": [
    "squared_Obama_Biden_sum = ((Obama-Biden)**2).sum()\n",
    "squared_Obama_Biden_sum"
   ]
  },
  {
   "cell_type": "code",
   "execution_count": 64,
   "id": "4b9669d3",
   "metadata": {},
   "outputs": [
    {
     "data": {
      "text/plain": [
       "123.29745600964294"
      ]
     },
     "execution_count": 64,
     "metadata": {},
     "output_type": "execute_result"
    }
   ],
   "source": [
    "Euclidean_distance_Biden_Obama = sqrt(squared_Obama_Biden_sum)\n",
    "Euclidean_distance_Biden_Obama"
   ]
  },
  {
   "cell_type": "markdown",
   "id": "75d8f40d",
   "metadata": {},
   "source": [
    " It turns out that, when we compute nearest neighbors using the Euclidean distances, we unwittingly favor short articles over long ones. Let us compute the length of each Wikipedia document, and examine the document lengths for the 100 nearest neighbors to Obama's page."
   ]
  },
  {
   "cell_type": "code",
   "execution_count": 108,
   "id": "ccb63e46",
   "metadata": {},
   "outputs": [],
   "source": [
    "Obama_100_indicies = np.array(model_tf_idf.kneighbors(tf_idf[35817],100))[1]"
   ]
  },
  {
   "cell_type": "code",
   "execution_count": 121,
   "id": "5ba41ee2",
   "metadata": {},
   "outputs": [],
   "source": [
    "lengths_100_euclidean = wiki.iloc[Obama_100_indicies[0],2].apply(lambda x: len(x.split()))\n",
    "lenght_all = wiki['text'].apply(lambda x: len(x.split()))"
   ]
  },
  {
   "cell_type": "code",
   "execution_count": 122,
   "id": "f4ec2dc9",
   "metadata": {},
   "outputs": [
    {
     "data": {
      "text/plain": [
       "(array([5.8083e+04, 8.7200e+02, 9.5000e+01, 1.5000e+01, 3.0000e+00,\n",
       "        1.0000e+00, 0.0000e+00, 0.0000e+00, 1.0000e+00, 1.0000e+00]),\n",
       " array([ 201.,  716., 1231., 1746., 2261., 2776., 3291., 3806., 4321.,\n",
       "        4836., 5351.]),\n",
       " <BarContainer object of 10 artists>)"
      ]
     },
     "execution_count": 122,
     "metadata": {},
     "output_type": "execute_result"
    },
    {
     "data": {
      "image/png": "[encoded data removed]",
      "text/plain": [
       "<Figure size 432x288 with 1 Axes>"
      ]
     },
     "metadata": {
      "needs_background": "light"
     },
     "output_type": "display_data"
    }
   ],
   "source": [
    "plt.hist(lengths_100_euclidean)\n"
   ]
  },
  {
   "cell_type": "code",
   "execution_count": 125,
   "id": "cd8c6f27",
   "metadata": {},
   "outputs": [
    {
     "data": {
      "text/plain": [
       "(array([84., 13.,  1.,  1.,  0.,  0.,  0.,  0.,  0.,  1.]),\n",
       " array([201. , 234.9, 268.8, 302.7, 336.6, 370.5, 404.4, 438.3, 472.2,\n",
       "        506.1, 540. ]),\n",
       " <BarContainer object of 10 artists>)"
      ]
     },
     "execution_count": 125,
     "metadata": {},
     "output_type": "execute_result"
    },
    {
     "data": {
      "image/png": "[encoded data removed]",
      "text/plain": [
       "<Figure size 432x288 with 1 Axes>"
      ]
     },
     "metadata": {
      "needs_background": "light"
     },
     "output_type": "display_data"
    }
   ],
   "source": [
    "plt.hist(lengths_100_euclidean)"
   ]
  },
  {
   "cell_type": "markdown",
   "id": "ff08c832",
   "metadata": {},
   "source": [
    "#### check tf-idf for cosine"
   ]
  },
  {
   "cell_type": "code",
   "execution_count": 126,
   "id": "5a59f588",
   "metadata": {},
   "outputs": [
    {
     "data": {
      "text/plain": [
       "NearestNeighbors(algorithm='brute', metric='cosine')"
      ]
     },
     "execution_count": 126,
     "metadata": {},
     "output_type": "execute_result"
    }
   ],
   "source": [
    "model_tf_idf_cosine = NearestNeighbors(metric='cosine', algorithm='brute')\n",
    "model_tf_idf_cosine.fit(tf_idf)"
   ]
  },
  {
   "cell_type": "code",
   "execution_count": 131,
   "id": "876b82e3",
   "metadata": {},
   "outputs": [],
   "source": [
    "distances, indices = model_tf_idf_cosine.kneighbors(tf_idf[35817], n_neighbors=100)"
   ]
  },
  {
   "cell_type": "code",
   "execution_count": 132,
   "id": "c95226a2",
   "metadata": {},
   "outputs": [
    {
     "data": {
      "text/plain": [
       "35817                         Barack Obama\n",
       "24478                            Joe Biden\n",
       "38376                       Samantha Power\n",
       "57108               Hillary Rodham Clinton\n",
       "38714              Eric Stern (politician)\n",
       "                       ...                \n",
       "43760                         Jody Freeman\n",
       "28267                      Michael C. Dorf\n",
       "48848    Greg Harris (Illinois politician)\n",
       "686                     Jesse Jackson, Jr.\n",
       "5020              Gary Peters (politician)\n",
       "Name: name, Length: 100, dtype: object"
      ]
     },
     "execution_count": 132,
     "metadata": {},
     "output_type": "execute_result"
    }
   ],
   "source": [
    "wiki.iloc[indices[0],1]"
   ]
  },
  {
   "cell_type": "code",
   "execution_count": 135,
   "id": "664a587f",
   "metadata": {},
   "outputs": [],
   "source": [
    "lengths_100_euclidean = wiki.iloc[indices[0],2].apply(lambda x: len(x.split()))\n",
    "lenght_all = wiki['text'].apply(lambda x: len(x.split()))"
   ]
  },
  {
   "cell_type": "code",
   "execution_count": 136,
   "id": "0dab65cd",
   "metadata": {},
   "outputs": [
    {
     "data": {
      "text/plain": [
       "(array([42., 24.,  8., 17.,  6.,  2.,  0.,  0.,  0.,  1.]),\n",
       " array([202. , 271.1, 340.2, 409.3, 478.4, 547.5, 616.6, 685.7, 754.8,\n",
       "        823.9, 893. ]),\n",
       " <BarContainer object of 10 artists>)"
      ]
     },
     "execution_count": 136,
     "metadata": {},
     "output_type": "execute_result"
    },
    {
     "data": {
      "image/png": "[encoded data removed]",
      "text/plain": [
       "<Figure size 432x288 with 1 Axes>"
      ]
     },
     "metadata": {
      "needs_background": "light"
     },
     "output_type": "display_data"
    }
   ],
   "source": [
    "plt.hist(lengths_100_euclidean)"
   ]
  }
 ],
 "metadata": {
  "kernelspec": {
   "display_name": "Python 3 (ipykernel)",
   "language": "python",
   "name": "python3"
  },
  "language_info": {
   "codemirror_mode": {
    "name": "ipython",
    "version": 3
   },
   "file_extension": ".py",
   "mimetype": "text/x-python",
   "name": "python",
   "nbconvert_exporter": "python",
   "pygments_lexer": "ipython3",
   "version": "3.8.10"
  }
 },
 "nbformat": 4,
 "nbformat_minor": 5
}
