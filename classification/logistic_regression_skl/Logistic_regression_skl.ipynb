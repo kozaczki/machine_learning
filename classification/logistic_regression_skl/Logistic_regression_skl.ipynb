{
 "cells": [
  {
   "cell_type": "markdown",
   "id": "92580403",
   "metadata": {},
   "source": [
    "# Logistic regression with sklearn. \n",
    "### Predicting sentiment from product reviews\n",
    "\n",
    "\n",
    "\n",
    "\n",
    "This notebook builds on Coursera course: Machine Learning: Classification (week1)\n",
    "\n",
    "It demonstrates **appilication of logistic regression for product sentiment prediction.**\n",
    "\n",
    "The notebook is divided into two parts. The first part is responsible for libraries imports and containes functions used and common parameters like dataset path.The second section is the actuall flow. The diagram below shows the first part of it, which is building the logistic regression model and testing it\n",
    "\n",
    "![Data Flow](logistic_regression_flow_a.png)\n",
    "\n",
    "The coefficients from the model are then used to obtain the most significat words influencing classification. Several subsets of these words warying in size are used to build new logistic regresession models, which are compared on train and test sets. These allows to observe the overfitting increasing with the size of significant words subset\n",
    "\n",
    "![Data Flow](logistic_regression_flow_b.png)\n"
   ]
  },
  {
   "cell_type": "markdown",
   "id": "cef56b2c",
   "metadata": {},
   "source": [
    "## GENERAL"
   ]
  },
  {
   "cell_type": "markdown",
   "id": "cb9ff671",
   "metadata": {},
   "source": [
    "### Libraries"
   ]
  },
  {
   "cell_type": "code",
   "execution_count": 1,
   "id": "0270058e",
   "metadata": {},
   "outputs": [],
   "source": [
    "import pandas as pd\n",
    "import json\n",
    "import math\n",
    "from sklearn.feature_extraction.text import CountVectorizer\n",
    "from sklearn.linear_model import LogisticRegression\n",
    "import string\n",
    "import math\n",
    "import matplotlib.pyplot as plt"
   ]
  },
  {
   "cell_type": "markdown",
   "id": "cc2b72bf",
   "metadata": {},
   "source": [
    "### Functions"
   ]
  },
  {
   "cell_type": "code",
   "execution_count": 2,
   "id": "e62be8a5",
   "metadata": {},
   "outputs": [],
   "source": [
    "def load_dataset_from_csv(path_to_dataset,data_types_ditc):\n",
    "    dataset = pd.read_csv(path_to_dataset,dtype=data_types_ditc)\n",
    "    return dataset"
   ]
  },
  {
   "cell_type": "code",
   "execution_count": 3,
   "id": "96a216b5",
   "metadata": {},
   "outputs": [],
   "source": [
    "def remove_na(dataset,column):\n",
    "    print(\"n/a before: \" + str(dataset[column].isnull().sum()))\n",
    "    dataset[column].fillna('',inplace = True)\n",
    "    print(\"n/a before: \" + str(dataset[column].isnull().sum()))"
   ]
  },
  {
   "cell_type": "code",
   "execution_count": 4,
   "id": "6a720bbe",
   "metadata": {},
   "outputs": [],
   "source": [
    "def remove_punctuation(text):\n",
    "    return text.translate(str.maketrans('', '',string.punctuation))"
   ]
  },
  {
   "cell_type": "code",
   "execution_count": 5,
   "id": "1b4be23f",
   "metadata": {},
   "outputs": [],
   "source": [
    "def read_json(json_path):\n",
    "    f = open(json_path)\n",
    "    data = json.load(f)\n",
    "    f.close()\n",
    "    return data"
   ]
  },
  {
   "cell_type": "code",
   "execution_count": 6,
   "id": "b61241a8",
   "metadata": {},
   "outputs": [],
   "source": [
    "def prepare_word_matrices(train_set,test_set,sample_indicies,column,pattern):\n",
    "    vectorizer = CountVectorizer(token_pattern = pattern)\n",
    "    # build train word matrix\n",
    "    train_matrix = vectorizer.fit_transform(train_set[column])\n",
    "    # build test word matrix according to train matrix\n",
    "    test_matrix = vectorizer.transform(test_set[column])\n",
    "    # build test for smple data\n",
    "    sample_data = test_set.iloc[sample_indicies]\n",
    "    sample_matrix = vectorizer.transform(sample_data[column])\n",
    "    \n",
    "    \n",
    "    \n",
    "    return train_matrix,test_matrix, sample_matrix, "
   ]
  },
  {
   "cell_type": "code",
   "execution_count": 7,
   "id": "82deda44",
   "metadata": {},
   "outputs": [],
   "source": [
    "def prepare_word_matrix_for_sample(sample_data,column,pattern):\n",
    "    vectorizer = CountVectorizer(token_pattern = pattern)\n",
    "    sample_matrix = vectorizer.fit_transform(sample_data[column])\n",
    "    return sample_matrix\n",
    "    "
   ]
  },
  {
   "cell_type": "code",
   "execution_count": 8,
   "id": "644bf5e8",
   "metadata": {},
   "outputs": [],
   "source": [
    "def predict_class_and_probability(model,input_matrix):\n",
    "    scores = model.decision_function(input_matrix)\n",
    "    classes = [1 if i > 0 else -1 for i in scores]\n",
    "    probablilities = [(1/(1 + (math.e)**(-i))) for i in scores] ## logistic function\n",
    "    print('scores: ',scores)\n",
    "    print('classes: ',classes)\n",
    "    print('probabilities: ' ,probablilities)\n",
    "    \n",
    "    \n",
    "    return scores,classes,probablilities"
   ]
  },
  {
   "cell_type": "code",
   "execution_count": 9,
   "id": "af03b6ef",
   "metadata": {},
   "outputs": [],
   "source": [
    "def predict_possiibilities_model(model,input_matrix):\n",
    "    return sentiment_model.predict_proba(input_matrix)[:,1]"
   ]
  },
  {
   "cell_type": "code",
   "execution_count": 10,
   "id": "e75e561c",
   "metadata": {},
   "outputs": [],
   "source": [
    "def build_coeff_df(model,pattern,train_set,column):\n",
    "    vectorizer = CountVectorizer(token_pattern = pattern)\n",
    "    # build train word matrix\n",
    "    train_matrix = vectorizer.fit_transform(train_set[column])\n",
    "    words_sentiment_model = vectorizer.get_feature_names_out()\n",
    "    coefficients = model.coef_[0]\n",
    "    coefficients_df = pd.DataFrame(list(zip(words_sentiment_model,coefficients)),columns=['word','coef'])\n",
    "    return coefficients_df"
   ]
  },
  {
   "cell_type": "code",
   "execution_count": 11,
   "id": "53a35e71",
   "metadata": {},
   "outputs": [],
   "source": [
    "def get_most_significant_words(df,number):\n",
    "    return df.sort_values('coef').iloc[:number],df.sort_values('coef',ascending = False).iloc[:number]"
   ]
  },
  {
   "cell_type": "code",
   "execution_count": 12,
   "id": "5b039e70",
   "metadata": {},
   "outputs": [],
   "source": [
    "def asses_model(model,train_matrix,test_matrix,train_data,test_data,column):\n",
    "    predicted_train_classes = model.predict(train_matrix)\n",
    "    train_accuracy = (predicted_train_classes == train_data[column]).sum()/predicted_train_classes.shape\n",
    "    predicted_test_classes = model.predict(test_matrix)\n",
    "    test_accuracy = (predicted_test_classes == test_data[column]).sum()/predicted_test_classes.shape\n",
    "    return train_accuracy[0],test_accuracy[0]"
   ]
  },
  {
   "cell_type": "code",
   "execution_count": 13,
   "id": "b17f6901",
   "metadata": {},
   "outputs": [],
   "source": [
    "dataset = 'amazon_baby.csv'"
   ]
  },
  {
   "cell_type": "code",
   "execution_count": 14,
   "id": "11ef3dbc",
   "metadata": {},
   "outputs": [],
   "source": [
    "types_dict = {'name': str, 'review': str, 'rating': int}"
   ]
  },
  {
   "cell_type": "code",
   "execution_count": 15,
   "id": "af28fc88",
   "metadata": {},
   "outputs": [],
   "source": [
    "token_pattern = r'\\b\\w+\\b'"
   ]
  },
  {
   "cell_type": "markdown",
   "id": "3fd29801",
   "metadata": {},
   "source": [
    "### Flow"
   ]
  },
  {
   "cell_type": "markdown",
   "id": "a169d8a2",
   "metadata": {},
   "source": [
    "### load and clean data"
   ]
  },
  {
   "cell_type": "code",
   "execution_count": 16,
   "id": "7f71931f",
   "metadata": {},
   "outputs": [],
   "source": [
    "products = load_dataset_from_csv(dataset,types_dict)"
   ]
  },
  {
   "cell_type": "code",
   "execution_count": 17,
   "id": "f49ea3e7",
   "metadata": {},
   "outputs": [
    {
     "data": {
      "text/html": [
       "<div>\n",
       "<style scoped>\n",
       "    .dataframe tbody tr th:only-of-type {\n",
       "        vertical-align: middle;\n",
       "    }\n",
       "\n",
       "    .dataframe tbody tr th {\n",
       "        vertical-align: top;\n",
       "    }\n",
       "\n",
       "    .dataframe thead th {\n",
       "        text-align: right;\n",
       "    }\n",
       "</style>\n",
       "<table border=\"1\" class=\"dataframe\">\n",
       "  <thead>\n",
       "    <tr style=\"text-align: right;\">\n",
       "      <th></th>\n",
       "      <th>name</th>\n",
       "      <th>review</th>\n",
       "      <th>rating</th>\n",
       "    </tr>\n",
       "  </thead>\n",
       "  <tbody>\n",
       "    <tr>\n",
       "      <th>0</th>\n",
       "      <td>Planetwise Flannel Wipes</td>\n",
       "      <td>These flannel wipes are OK, but in my opinion ...</td>\n",
       "      <td>3</td>\n",
       "    </tr>\n",
       "    <tr>\n",
       "      <th>1</th>\n",
       "      <td>Planetwise Wipe Pouch</td>\n",
       "      <td>it came early and was not disappointed. i love...</td>\n",
       "      <td>5</td>\n",
       "    </tr>\n",
       "    <tr>\n",
       "      <th>2</th>\n",
       "      <td>Annas Dream Full Quilt with 2 Shams</td>\n",
       "      <td>Very soft and comfortable and warmer than it l...</td>\n",
       "      <td>5</td>\n",
       "    </tr>\n",
       "    <tr>\n",
       "      <th>3</th>\n",
       "      <td>Stop Pacifier Sucking without tears with Thumb...</td>\n",
       "      <td>This is a product well worth the purchase.  I ...</td>\n",
       "      <td>5</td>\n",
       "    </tr>\n",
       "    <tr>\n",
       "      <th>4</th>\n",
       "      <td>Stop Pacifier Sucking without tears with Thumb...</td>\n",
       "      <td>All of my kids have cried non-stop when I trie...</td>\n",
       "      <td>5</td>\n",
       "    </tr>\n",
       "  </tbody>\n",
       "</table>\n",
       "</div>"
      ],
      "text/plain": [
       "                                                name  \\\n",
       "0                           Planetwise Flannel Wipes   \n",
       "1                              Planetwise Wipe Pouch   \n",
       "2                Annas Dream Full Quilt with 2 Shams   \n",
       "3  Stop Pacifier Sucking without tears with Thumb...   \n",
       "4  Stop Pacifier Sucking without tears with Thumb...   \n",
       "\n",
       "                                              review  rating  \n",
       "0  These flannel wipes are OK, but in my opinion ...       3  \n",
       "1  it came early and was not disappointed. i love...       5  \n",
       "2  Very soft and comfortable and warmer than it l...       5  \n",
       "3  This is a product well worth the purchase.  I ...       5  \n",
       "4  All of my kids have cried non-stop when I trie...       5  "
      ]
     },
     "execution_count": 17,
     "metadata": {},
     "output_type": "execute_result"
    }
   ],
   "source": [
    "products.head()"
   ]
  },
  {
   "cell_type": "code",
   "execution_count": 18,
   "id": "f9fcecc7",
   "metadata": {},
   "outputs": [
    {
     "name": "stdout",
     "output_type": "stream",
     "text": [
      "n/a before: 829\n",
      "n/a before: 0\n"
     ]
    }
   ],
   "source": [
    "remove_na(products,'review')"
   ]
  },
  {
   "cell_type": "code",
   "execution_count": 19,
   "id": "5ec4d269",
   "metadata": {},
   "outputs": [],
   "source": [
    "products['review_clean'] = products['review'].apply(remove_punctuation)"
   ]
  },
  {
   "cell_type": "code",
   "execution_count": 20,
   "id": "ccd8750b",
   "metadata": {},
   "outputs": [
    {
     "data": {
      "text/html": [
       "<div>\n",
       "<style scoped>\n",
       "    .dataframe tbody tr th:only-of-type {\n",
       "        vertical-align: middle;\n",
       "    }\n",
       "\n",
       "    .dataframe tbody tr th {\n",
       "        vertical-align: top;\n",
       "    }\n",
       "\n",
       "    .dataframe thead th {\n",
       "        text-align: right;\n",
       "    }\n",
       "</style>\n",
       "<table border=\"1\" class=\"dataframe\">\n",
       "  <thead>\n",
       "    <tr style=\"text-align: right;\">\n",
       "      <th></th>\n",
       "      <th>name</th>\n",
       "      <th>review</th>\n",
       "      <th>rating</th>\n",
       "      <th>review_clean</th>\n",
       "    </tr>\n",
       "  </thead>\n",
       "  <tbody>\n",
       "    <tr>\n",
       "      <th>0</th>\n",
       "      <td>Planetwise Flannel Wipes</td>\n",
       "      <td>These flannel wipes are OK, but in my opinion ...</td>\n",
       "      <td>3</td>\n",
       "      <td>These flannel wipes are OK but in my opinion n...</td>\n",
       "    </tr>\n",
       "    <tr>\n",
       "      <th>1</th>\n",
       "      <td>Planetwise Wipe Pouch</td>\n",
       "      <td>it came early and was not disappointed. i love...</td>\n",
       "      <td>5</td>\n",
       "      <td>it came early and was not disappointed i love ...</td>\n",
       "    </tr>\n",
       "    <tr>\n",
       "      <th>2</th>\n",
       "      <td>Annas Dream Full Quilt with 2 Shams</td>\n",
       "      <td>Very soft and comfortable and warmer than it l...</td>\n",
       "      <td>5</td>\n",
       "      <td>Very soft and comfortable and warmer than it l...</td>\n",
       "    </tr>\n",
       "    <tr>\n",
       "      <th>3</th>\n",
       "      <td>Stop Pacifier Sucking without tears with Thumb...</td>\n",
       "      <td>This is a product well worth the purchase.  I ...</td>\n",
       "      <td>5</td>\n",
       "      <td>This is a product well worth the purchase  I h...</td>\n",
       "    </tr>\n",
       "    <tr>\n",
       "      <th>4</th>\n",
       "      <td>Stop Pacifier Sucking without tears with Thumb...</td>\n",
       "      <td>All of my kids have cried non-stop when I trie...</td>\n",
       "      <td>5</td>\n",
       "      <td>All of my kids have cried nonstop when I tried...</td>\n",
       "    </tr>\n",
       "  </tbody>\n",
       "</table>\n",
       "</div>"
      ],
      "text/plain": [
       "                                                name  \\\n",
       "0                           Planetwise Flannel Wipes   \n",
       "1                              Planetwise Wipe Pouch   \n",
       "2                Annas Dream Full Quilt with 2 Shams   \n",
       "3  Stop Pacifier Sucking without tears with Thumb...   \n",
       "4  Stop Pacifier Sucking without tears with Thumb...   \n",
       "\n",
       "                                              review  rating  \\\n",
       "0  These flannel wipes are OK, but in my opinion ...       3   \n",
       "1  it came early and was not disappointed. i love...       5   \n",
       "2  Very soft and comfortable and warmer than it l...       5   \n",
       "3  This is a product well worth the purchase.  I ...       5   \n",
       "4  All of my kids have cried non-stop when I trie...       5   \n",
       "\n",
       "                                        review_clean  \n",
       "0  These flannel wipes are OK but in my opinion n...  \n",
       "1  it came early and was not disappointed i love ...  \n",
       "2  Very soft and comfortable and warmer than it l...  \n",
       "3  This is a product well worth the purchase  I h...  \n",
       "4  All of my kids have cried nonstop when I tried...  "
      ]
     },
     "execution_count": 20,
     "metadata": {},
     "output_type": "execute_result"
    }
   ],
   "source": [
    "products.head()"
   ]
  },
  {
   "cell_type": "code",
   "execution_count": 21,
   "id": "429f39ef",
   "metadata": {},
   "outputs": [],
   "source": [
    "products = products[products['rating']!=3]\n",
    "products.reset_index(inplace=True, drop=True)\n",
    "products['sentiment'] = products['rating'].apply(lambda x : +1 if x > 3 else -1)"
   ]
  },
  {
   "cell_type": "code",
   "execution_count": 22,
   "id": "1265ec0b",
   "metadata": {},
   "outputs": [
    {
     "data": {
      "text/html": [
       "<div>\n",
       "<style scoped>\n",
       "    .dataframe tbody tr th:only-of-type {\n",
       "        vertical-align: middle;\n",
       "    }\n",
       "\n",
       "    .dataframe tbody tr th {\n",
       "        vertical-align: top;\n",
       "    }\n",
       "\n",
       "    .dataframe thead th {\n",
       "        text-align: right;\n",
       "    }\n",
       "</style>\n",
       "<table border=\"1\" class=\"dataframe\">\n",
       "  <thead>\n",
       "    <tr style=\"text-align: right;\">\n",
       "      <th></th>\n",
       "      <th>name</th>\n",
       "      <th>review</th>\n",
       "      <th>rating</th>\n",
       "      <th>review_clean</th>\n",
       "      <th>sentiment</th>\n",
       "    </tr>\n",
       "  </thead>\n",
       "  <tbody>\n",
       "    <tr>\n",
       "      <th>0</th>\n",
       "      <td>Planetwise Wipe Pouch</td>\n",
       "      <td>it came early and was not disappointed. i love...</td>\n",
       "      <td>5</td>\n",
       "      <td>it came early and was not disappointed i love ...</td>\n",
       "      <td>1</td>\n",
       "    </tr>\n",
       "    <tr>\n",
       "      <th>1</th>\n",
       "      <td>Annas Dream Full Quilt with 2 Shams</td>\n",
       "      <td>Very soft and comfortable and warmer than it l...</td>\n",
       "      <td>5</td>\n",
       "      <td>Very soft and comfortable and warmer than it l...</td>\n",
       "      <td>1</td>\n",
       "    </tr>\n",
       "    <tr>\n",
       "      <th>2</th>\n",
       "      <td>Stop Pacifier Sucking without tears with Thumb...</td>\n",
       "      <td>This is a product well worth the purchase.  I ...</td>\n",
       "      <td>5</td>\n",
       "      <td>This is a product well worth the purchase  I h...</td>\n",
       "      <td>1</td>\n",
       "    </tr>\n",
       "    <tr>\n",
       "      <th>3</th>\n",
       "      <td>Stop Pacifier Sucking without tears with Thumb...</td>\n",
       "      <td>All of my kids have cried non-stop when I trie...</td>\n",
       "      <td>5</td>\n",
       "      <td>All of my kids have cried nonstop when I tried...</td>\n",
       "      <td>1</td>\n",
       "    </tr>\n",
       "    <tr>\n",
       "      <th>4</th>\n",
       "      <td>Stop Pacifier Sucking without tears with Thumb...</td>\n",
       "      <td>When the Binky Fairy came to our house, we did...</td>\n",
       "      <td>5</td>\n",
       "      <td>When the Binky Fairy came to our house we didn...</td>\n",
       "      <td>1</td>\n",
       "    </tr>\n",
       "  </tbody>\n",
       "</table>\n",
       "</div>"
      ],
      "text/plain": [
       "                                                name  \\\n",
       "0                              Planetwise Wipe Pouch   \n",
       "1                Annas Dream Full Quilt with 2 Shams   \n",
       "2  Stop Pacifier Sucking without tears with Thumb...   \n",
       "3  Stop Pacifier Sucking without tears with Thumb...   \n",
       "4  Stop Pacifier Sucking without tears with Thumb...   \n",
       "\n",
       "                                              review  rating  \\\n",
       "0  it came early and was not disappointed. i love...       5   \n",
       "1  Very soft and comfortable and warmer than it l...       5   \n",
       "2  This is a product well worth the purchase.  I ...       5   \n",
       "3  All of my kids have cried non-stop when I trie...       5   \n",
       "4  When the Binky Fairy came to our house, we did...       5   \n",
       "\n",
       "                                        review_clean  sentiment  \n",
       "0  it came early and was not disappointed i love ...          1  \n",
       "1  Very soft and comfortable and warmer than it l...          1  \n",
       "2  This is a product well worth the purchase  I h...          1  \n",
       "3  All of my kids have cried nonstop when I tried...          1  \n",
       "4  When the Binky Fairy came to our house we didn...          1  "
      ]
     },
     "execution_count": 22,
     "metadata": {},
     "output_type": "execute_result"
    }
   ],
   "source": [
    "products.head()"
   ]
  },
  {
   "cell_type": "code",
   "execution_count": 23,
   "id": "25bcc7c1",
   "metadata": {},
   "outputs": [
    {
     "data": {
      "text/plain": [
       " 1    140259\n",
       "-1     26493\n",
       "Name: sentiment, dtype: int64"
      ]
     },
     "execution_count": 23,
     "metadata": {},
     "output_type": "execute_result"
    }
   ],
   "source": [
    "products['sentiment'].value_counts()"
   ]
  },
  {
   "cell_type": "markdown",
   "id": "cda30191",
   "metadata": {},
   "source": [
    "### split into train and test sets"
   ]
  },
  {
   "cell_type": "code",
   "execution_count": 24,
   "id": "e42e383a",
   "metadata": {},
   "outputs": [],
   "source": [
    "train_indicies = read_json('module-2-assignment-train-idx.json')\n",
    "test_indicies = read_json('module-2-assignment-test-idx.json')"
   ]
  },
  {
   "cell_type": "code",
   "execution_count": 25,
   "id": "842c2a58",
   "metadata": {},
   "outputs": [],
   "source": [
    "train_data = products.iloc[train_indicies]"
   ]
  },
  {
   "cell_type": "code",
   "execution_count": 26,
   "id": "12a47921",
   "metadata": {},
   "outputs": [],
   "source": [
    "test_data = products.iloc[test_indicies]"
   ]
  },
  {
   "cell_type": "markdown",
   "id": "b4c7f0c6",
   "metadata": {},
   "source": [
    "### build the word count vector (bag-of-word features) for each review in products"
   ]
  },
  {
   "cell_type": "code",
   "execution_count": 27,
   "id": "d4727791",
   "metadata": {},
   "outputs": [],
   "source": [
    "vectorizer = CountVectorizer(token_pattern=token_pattern)"
   ]
  },
  {
   "cell_type": "code",
   "execution_count": 28,
   "id": "3fa57c96",
   "metadata": {},
   "outputs": [],
   "source": [
    "train_matrix = vectorizer.fit_transform(train_data['review_clean'])"
   ]
  },
  {
   "cell_type": "code",
   "execution_count": 29,
   "id": "6364358c",
   "metadata": {},
   "outputs": [],
   "source": [
    "test_matrix = vectorizer.transform(test_data['review_clean'])"
   ]
  },
  {
   "cell_type": "code",
   "execution_count": 30,
   "id": "eb948183",
   "metadata": {},
   "outputs": [],
   "source": [
    "sample_rows = [10,11,12]"
   ]
  },
  {
   "cell_type": "code",
   "execution_count": 31,
   "id": "a29b4bc9",
   "metadata": {},
   "outputs": [],
   "source": [
    "sample_matrix = vectorizer.transform(test_data.iloc[sample_rows]['review_clean'])"
   ]
  },
  {
   "cell_type": "markdown",
   "id": "f36c5483",
   "metadata": {},
   "source": [
    "### train a sentiment classifier "
   ]
  },
  {
   "cell_type": "code",
   "execution_count": 32,
   "id": "cfe71295",
   "metadata": {},
   "outputs": [
    {
     "data": {
      "text/plain": [
       "LogisticRegression(solver='liblinear')"
      ]
     },
     "execution_count": 32,
     "metadata": {},
     "output_type": "execute_result"
    }
   ],
   "source": [
    "sentiment_model = LogisticRegression(solver='liblinear') \n",
    "sentiment_model.fit(train_matrix,train_data['sentiment'])"
   ]
  },
  {
   "cell_type": "markdown",
   "id": "9ff4d5b4",
   "metadata": {},
   "source": [
    "### predict classes and probabilities using custom function\n"
   ]
  },
  {
   "cell_type": "code",
   "execution_count": 33,
   "id": "00834874",
   "metadata": {},
   "outputs": [
    {
     "name": "stdout",
     "output_type": "stream",
     "text": [
      "scores:  [  5.60155097  -3.16959675 -10.42376824]\n",
      "classes:  [1, -1, -1]\n",
      "probabilities:  [0.9963214488020146, 0.0403260183986542, 2.971680162751617e-05]\n"
     ]
    },
    {
     "data": {
      "text/plain": [
       "(array([  5.60155097,  -3.16959675, -10.42376824]),\n",
       " [1, -1, -1],\n",
       " [0.9963214488020146, 0.0403260183986542, 2.971680162751617e-05])"
      ]
     },
     "execution_count": 33,
     "metadata": {},
     "output_type": "execute_result"
    }
   ],
   "source": [
    "predict_class_and_probability(sentiment_model,sample_matrix)"
   ]
  },
  {
   "cell_type": "markdown",
   "id": "e74ce47d",
   "metadata": {},
   "source": [
    "### predict probabilities using model, extract significant words"
   ]
  },
  {
   "cell_type": "code",
   "execution_count": 34,
   "id": "2d274c36",
   "metadata": {},
   "outputs": [
    {
     "data": {
      "text/plain": [
       "array([9.96321449e-01, 4.03260184e-02, 2.97168016e-05])"
      ]
     },
     "execution_count": 34,
     "metadata": {},
     "output_type": "execute_result"
    }
   ],
   "source": [
    "predict_possiibilities_model(sentiment_model,sample_matrix)"
   ]
  },
  {
   "cell_type": "code",
   "execution_count": 35,
   "id": "6cba6fa7",
   "metadata": {},
   "outputs": [],
   "source": [
    "coefficients = build_coeff_df(sentiment_model,token_pattern,train_data,'review_clean')"
   ]
  },
  {
   "cell_type": "code",
   "execution_count": 36,
   "id": "23d21d90",
   "metadata": {},
   "outputs": [],
   "source": [
    "neg_words, pos_words = get_most_significant_words(coefficients,20)"
   ]
  },
  {
   "cell_type": "markdown",
   "id": "fd33bf58",
   "metadata": {},
   "source": [
    "### Test model"
   ]
  },
  {
   "cell_type": "code",
   "execution_count": 37,
   "id": "c92bd4cc",
   "metadata": {},
   "outputs": [
    {
     "data": {
      "text/plain": [
       "(0.9684895364873778, 0.9322954163666907)"
      ]
     },
     "execution_count": 37,
     "metadata": {},
     "output_type": "execute_result"
    }
   ],
   "source": [
    "asses_model(sentiment_model,train_matrix,test_matrix,train_data,test_data,'sentiment')"
   ]
  },
  {
   "cell_type": "markdown",
   "id": "d9ece513",
   "metadata": {},
   "source": [
    "### Build models from most significant words"
   ]
  },
  {
   "cell_type": "code",
   "execution_count": 38,
   "id": "42822668",
   "metadata": {},
   "outputs": [],
   "source": [
    "significant_words = neg_words['word'].to_list() + pos_words['word'].to_list()"
   ]
  },
  {
   "cell_type": "code",
   "execution_count": 39,
   "id": "9d43731f",
   "metadata": {},
   "outputs": [
    {
     "name": "stdout",
     "output_type": "stream",
     "text": [
      "['pleasantly', 'amazed', 'ply', 'excellent', 'downside', 'saves', 'perfect', 'rich', 'outstanding', 'girly', 'lifesaver', 'con', 'delivers', 'highly', 'glad', 'complaints', 'minor', 'penny', 'perfectly', 'awesome']\n"
     ]
    }
   ],
   "source": [
    "print(significant_words[-20:])"
   ]
  },
  {
   "cell_type": "code",
   "execution_count": 40,
   "id": "685299a1",
   "metadata": {},
   "outputs": [
    {
     "name": "stdout",
     "output_type": "stream",
     "text": [
      "['dissapointed', 'worthless', 'pointless', 'worst', 'theory', 'disappointing', 'useless', 'poorly', 'concept', 'poor', 'unusable', 'ineffective', 'disappointed', 'returned', 'frustrating', 'nope', 'returning', 'terrible', 'waste', 'tomorrow']\n"
     ]
    }
   ],
   "source": [
    "print(significant_words[:20])"
   ]
  },
  {
   "cell_type": "code",
   "execution_count": 41,
   "id": "6975029b",
   "metadata": {},
   "outputs": [],
   "source": [
    "vectorizer_word_subset = CountVectorizer(vocabulary=significant_words) \n",
    "train_matrix_word_subset = vectorizer_word_subset.fit_transform(train_data['review_clean'])\n",
    "test_matrix_word_subset = vectorizer_word_subset.transform(test_data['review_clean'])"
   ]
  },
  {
   "cell_type": "code",
   "execution_count": 42,
   "id": "2fdaeae3",
   "metadata": {},
   "outputs": [
    {
     "data": {
      "text/plain": [
       "LogisticRegression(solver='liblinear')"
      ]
     },
     "execution_count": 42,
     "metadata": {},
     "output_type": "execute_result"
    }
   ],
   "source": [
    "simple_model = LogisticRegression(solver='liblinear')\n",
    "simple_model.fit(train_matrix_word_subset,train_data['sentiment'])"
   ]
  },
  {
   "cell_type": "code",
   "execution_count": 43,
   "id": "d269c296",
   "metadata": {},
   "outputs": [
    {
     "data": {
      "text/plain": [
       "(0.874542783474246, 0.8760499160067194)"
      ]
     },
     "execution_count": 43,
     "metadata": {},
     "output_type": "execute_result"
    }
   ],
   "source": [
    "asses_model(simple_model,train_matrix_word_subset,test_matrix_word_subset,train_data,test_data,'sentiment')"
   ]
  },
  {
   "cell_type": "markdown",
   "id": "7f67f1fc",
   "metadata": {},
   "source": [
    "## compare models built from subsets vocabulary"
   ]
  },
  {
   "cell_type": "code",
   "execution_count": 44,
   "id": "75c6f1fa",
   "metadata": {},
   "outputs": [],
   "source": [
    "train_accuracies = []\n",
    "test_accuracies = []\n",
    "for words_number in [10,20,50,100,500,1000,2000,5000,10000,15000]:\n",
    "    neg_words, pos_words = get_most_significant_words(coefficients,words_number)\n",
    "    significant_words = neg_words['word'].to_list() + pos_words['word'].to_list()\n",
    "    vectorizer_word_subset = CountVectorizer(vocabulary=significant_words) \n",
    "    train_matrix_word_subset = vectorizer_word_subset.fit_transform(train_data['review_clean'])\n",
    "    test_matrix_word_subset = vectorizer_word_subset.transform(test_data['review_clean'])\n",
    "    simple_model = LogisticRegression(solver='liblinear')\n",
    "    simple_model.fit(train_matrix_word_subset,train_data['sentiment'])\n",
    "    train,test = asses_model(simple_model,train_matrix_word_subset,test_matrix_word_subset,train_data,test_data,'sentiment')\n",
    "    train_accuracies.append(train)\n",
    "    test_accuracies.append(test)  "
   ]
  },
  {
   "cell_type": "code",
   "execution_count": 45,
   "id": "3439d5dc",
   "metadata": {},
   "outputs": [],
   "source": [
    "train_errors = [1 - i for i in train_accuracies]"
   ]
  },
  {
   "cell_type": "code",
   "execution_count": 46,
   "id": "47dcbff8",
   "metadata": {},
   "outputs": [],
   "source": [
    "test_errors = [1 - i for i in test_accuracies]"
   ]
  },
  {
   "cell_type": "code",
   "execution_count": 62,
   "id": "c2f204fa",
   "metadata": {},
   "outputs": [
    {
     "data": {
      "image/png": "[encoded data removed]",
      "text/plain": [
       "<Figure size 720x360 with 1 Axes>"
      ]
     },
     "metadata": {
      "needs_background": "light"
     },
     "output_type": "display_data"
    }
   ],
   "source": [
    "x_labels = ['10','20','50','100','500','1000','2000','5000','10000','15000']\n",
    "fig,ax = plt.subplots(1,1,figsize = (10,5))\n",
    "\n",
    "ax.set_title('error vs. model complexity',fontsize=25)\n",
    "ax.plot(train_errors)\n",
    "ax.plot(test_errors)\n",
    "ax.legend(['train error','test error'],fontsize = 13)\n",
    "ax.set_xticks(range(10),labels = x_labels);\n",
    "ax.set_xlabel('model complexity \\n (number of significant words)',fontsize = 20);\n",
    "ax.set_ylabel('error',fontsize = 20);"
   ]
  }
 ],
 "metadata": {
  "kernelspec": {
   "display_name": "Python 3 (ipykernel)",
   "language": "python",
   "name": "python3"
  },
  "language_info": {
   "codemirror_mode": {
    "name": "ipython",
    "version": 3
   },
   "file_extension": ".py",
   "mimetype": "text/x-python",
   "name": "python",
   "nbconvert_exporter": "python",
   "pygments_lexer": "ipython3",
   "version": "3.8.10"
  }
 },
 "nbformat": 4,
 "nbformat_minor": 5
}
